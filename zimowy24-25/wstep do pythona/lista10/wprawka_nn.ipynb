{
 "cells": [
  {
   "cell_type": "code",
   "execution_count": 1,
   "metadata": {},
   "outputs": [],
   "source": [
    "from itertools import chain"
   ]
  },
  {
   "cell_type": "code",
   "execution_count": 2,
   "metadata": {},
   "outputs": [],
   "source": [
    "with open('brown.txt','r') as ang, open('lalka-tom-pierwszy.txt','r',encoding='utf8') as pol:\n",
    "    ANG = {i.lower() for i in ang.read().split() if i.isalpha()}\n",
    "    POL = {i.lower() for i in pol.read().split() if i.isalpha()}"
   ]
  },
  {
   "cell_type": "code",
   "execution_count": 3,
   "metadata": {},
   "outputs": [],
   "source": [
    "class LanguageGuesser:\n",
    "    def __init__(self,pol_words:set = POL,eng_words:set = ANG,N:int = 2):\n",
    "        self.max_gram = N\n",
    "        self.all_words = pol_words | eng_words\n",
    "        self.every_n_gram_list = self.buildable_n_gram()\n",
    "        self.pol_freq = self.lang_gram_freq(pol_words)\n",
    "        self.eng_freq = self.lang_gram_freq(eng_words)\n",
    "        self.languages_freq_compare = {gram:tuple(map(lambda x:self.freq(x,gram),[self.pol_freq,self.eng_freq]))for gram in self.every_n_gram_list}\n",
    "\n",
    "    def N_gram(self,word:str,n:int = 1):\n",
    "        tokens = [token for token in word]\n",
    "        n_grams = zip(*[tokens[i:] for i in range(n)])\n",
    "        n_grams = [''.join(i) for i in n_grams]\n",
    "        return n_grams\n",
    "\n",
    "    def every_N_gram(self,word:str):\n",
    "        return list(chain.from_iterable([self.N_gram(word,i) for i in range(1,self.max_gram+1)]))\n",
    "\n",
    "    def buildable_n_gram(self):\n",
    "        t = set()\n",
    "        for word in self.all_words:\n",
    "            for gram in self.every_N_gram(word):\n",
    "                t.add(gram)\n",
    "        return t\n",
    "    \n",
    "    def lang_gram_freq(self,lang_set:set):\n",
    "        lang_freq = {}\n",
    "        for word in lang_set:\n",
    "            grams = self.every_N_gram(word)\n",
    "            for gram in grams:\n",
    "                if gram in lang_freq:\n",
    "                    lang_freq[gram] += 1\n",
    "                else:\n",
    "                    lang_freq[gram] = 1\n",
    "        return {gr:lang_freq[gr]/len(lang_set) for gr in lang_freq}\n",
    "    \n",
    "    def freq(self,dct:dict,gram:str):\n",
    "        return dct[gram] if gram in dct else 0\n",
    "    \n",
    "    def word_score(self,word:str)->float:\n",
    "        pass\n",
    "    \n",
    "    def test_set_acc(self,test_set:dict)->float:\n",
    "        return sum([1 for i in test_set if self.guess_lang(word = i) == test_set[i]])/len(test_set)\n",
    "    \n",
    "    def guess_lang_all(self,words_to_guess:list)->dict[str,str]:\n",
    "        return {i:self.guess_lang(word = i) for i in words_to_guess}\n",
    "    \n",
    "    def guess_lang(self,*,word:str = None,words:list = [])->str:\n",
    "        if words:\n",
    "            return self.guess_lang_all(words)\n",
    "        return 'pol' if self.word_score(word) >= 0 else 'ang'\n",
    "    "
   ]
  },
  {
   "cell_type": "code",
   "execution_count": 4,
   "metadata": {},
   "outputs": [],
   "source": [
    "class BinaryWordScore(LanguageGuesser):\n",
    "    def __init__(self, pol_words:set = POL, eng_words:set = ANG, N:int = 2):\n",
    "        super().__init__(pol_words, eng_words, N)\n",
    "        \n",
    "    def word_score(self,word:str)->float:\n",
    "        super().word_score(word)\n",
    "        score = 0\n",
    "        for t in self.every_N_gram(word):\n",
    "            if t not in self.languages_freq_compare:\n",
    "                continue\n",
    "            p,e = self.languages_freq_compare[t]\n",
    "            if p == 0:\n",
    "                return -1\n",
    "            if e == 0:\n",
    "                return 1\n",
    "            else:\n",
    "                if p == e:continue\n",
    "                score += 1 if p>e else -1\n",
    "        return score\n",
    "    "
   ]
  },
  {
   "cell_type": "code",
   "execution_count": 5,
   "metadata": {},
   "outputs": [],
   "source": [
    "with open('do_wprawki.txt','r',encoding='utf8') as data:\n",
    "    data = data.read().splitlines()\n",
    "    test_set = {word.split()[1]:word.split()[0] for word in data}\n",
    "    first_guess = BinaryWordScore(N=5)"
   ]
  },
  {
   "cell_type": "code",
   "execution_count": 6,
   "metadata": {},
   "outputs": [
    {
     "data": {
      "text/plain": [
       "0.9314086417360976"
      ]
     },
     "execution_count": 6,
     "metadata": {},
     "output_type": "execute_result"
    }
   ],
   "source": [
    "first_guess.test_set_acc(test_set)\n",
    "#first_guess.guess_lang(words = ['inaudiable','extinguish','operacja'])"
   ]
  }
 ],
 "metadata": {
  "kernelspec": {
   "display_name": "Python 3",
   "language": "python",
   "name": "python3"
  },
  "language_info": {
   "codemirror_mode": {
    "name": "ipython",
    "version": 3
   },
   "file_extension": ".py",
   "mimetype": "text/x-python",
   "name": "python",
   "nbconvert_exporter": "python",
   "pygments_lexer": "ipython3",
   "version": "3.12.8"
  }
 },
 "nbformat": 4,
 "nbformat_minor": 2
}
